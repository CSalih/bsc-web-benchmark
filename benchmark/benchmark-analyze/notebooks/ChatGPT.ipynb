{
 "cells": [
  {
   "cell_type": "code",
   "execution_count": 34,
   "id": "5c6a86f3-b20b-456e-a3f6-78bd50fe3f4a",
   "metadata": {},
   "outputs": [],
   "source": [
    "import pandas as pd\n",
    "import scipy.stats as stats\n",
    "import statsmodels.api as sm\n",
    "import matplotlib.pyplot as plt\n",
    "\n",
    "from statsmodels.formula.api import ols\n",
    "from statsmodels.stats.multicomp import pairwise_tukeyhsd"
   ]
  },
  {
   "cell_type": "code",
   "execution_count": 35,
   "id": "e679cf02-43b6-45ba-a255-37083e018223",
   "metadata": {},
   "outputs": [
    {
     "data": {
      "text/plain": [
       "'/Users/csalih/Developer/bsc-web-benchmark/benchmark/benchmark-analyze/data/benchmark-results.csv'"
      ]
     },
     "execution_count": 35,
     "metadata": {},
     "output_type": "execute_result"
    }
   ],
   "source": [
    "import os\n",
    "\n",
    "cwd = os.getcwd()\n",
    "cwd\n",
    "benchmark_result_path = os.path.realpath(\n",
    "    os.path.join(cwd, \"../data/benchmark-results.csv\")\n",
    ")\n",
    "benchmark_result_path"
   ]
  },
  {
   "cell_type": "code",
   "execution_count": 58,
   "id": "e08517d3-e7a5-4a7c-a643-a404fbbec392",
   "metadata": {},
   "outputs": [
    {
     "name": "stdout",
     "output_type": "stream",
     "text": [
      "     framework                          metric      os   browser  value\n",
      "0  app-angular            create_1000_duration  darwin  chromium   61.2\n",
      "1  app-angular           create_10000_duration  darwin  chromium  578.6\n",
      "2  app-angular       append_1000_rows_duration  darwin  chromium   58.7\n",
      "3  app-angular  update_every_10th_row_duration  darwin  chromium    6.5\n",
      "4  app-angular              swap_rows_duration  darwin  chromium    6.4\n"
     ]
    }
   ],
   "source": [
    "# Load the dataset\n",
    "csv_headers = [\"framework\", \"metric\", \"os\", \"browser\", \"value\"]\n",
    "df = pd.read_csv(benchmark_result_path, names=csv_headers)\n",
    "\n",
    "# Group the data\n",
    "frameworks = df[\"framework\"].unique()\n",
    "metrics = df[\"metric\"].unique()\n",
    "browsers = df[\"browser\"].unique()\n",
    "operating_systems = df[\"os\"].unique()\n",
    "\n",
    "df_by_metric = df.groupby('metric')\n",
    "\n",
    "# Display basic info\n",
    "print(df.head())"
   ]
  },
  {
   "cell_type": "code",
   "execution_count": null,
   "id": "5f819ff3-3934-459c-8309-ad7c031935bc",
   "metadata": {},
   "outputs": [],
   "source": [
    "# Validate\n",
    "\n",
    "# Check if there is sufficient data for ANOVA\n",
    "if df[\"framework\"].nunique() < 0 or df[\"browser\"].nunique() < 0:\n",
    "    raise Exception(f\"Metric {metric} has insufficient data.\")\n",
    "\n",
    "\n",
    "# Group by all factors and count the number of observations\n",
    "counts = df.groupby(['framework', 'metric', 'browser']).size().reset_index(name='count')\n",
    "single_observations = counts[counts['count'] == 1]\n",
    "\n",
    "if not single_observations.empty:\n",
    "    print(\"WARNING: The following groups have only one observation. ANOVA may fail:\")\n",
    "    print(single_observations)\n",
    "    raise Exception(\"Consider combining levels or simplifying your model.\")"
   ]
  },
  {
   "cell_type": "code",
   "execution_count": 59,
   "id": "40004434-df4c-45ec-9c9f-0aed2c5c92ac",
   "metadata": {},
   "outputs": [
    {
     "name": "stdout",
     "output_type": "stream",
     "text": [
      "ANOVA Results for Metric: append_1000_rows_duration\n",
      "                   sum_sq     df           F        PR(>F)\n",
      "C(framework)  3274.466000    3.0   78.883787  1.084710e-27\n",
      "C(browser)    7267.572667    2.0  262.620068  2.092794e-43\n",
      "Residual      1577.379999  114.0         NaN           NaN\n",
      "\n",
      "ANOVA Results for Metric: create_10000_duration\n",
      "                    sum_sq     df           F        PR(>F)\n",
      "C(framework)  4.160677e+05    3.0   85.414685  4.951393e-29\n",
      "C(browser)    3.169575e+06    2.0  976.024711  1.907903e-72\n",
      "Residual      1.851037e+05  114.0         NaN           NaN\n",
      "\n",
      "ANOVA Results for Metric: create_1000_duration\n",
      "                   sum_sq     df           F        PR(>F)\n",
      "C(framework)  1820.790000    3.0   60.860955  1.450309e-23\n",
      "C(browser)    3924.170667    2.0  196.751498  1.080378e-37\n",
      "Residual      1136.854000  114.0         NaN           NaN\n",
      "\n",
      "ANOVA Results for Metric: swap_rows_duration\n",
      "                    sum_sq     df           F        PR(>F)\n",
      "C(framework)  39458.364916    3.0  343.380405  6.623583e-57\n",
      "C(browser)     1165.146500    2.0   15.209265  1.396594e-06\n",
      "Residual       4366.637833  114.0         NaN           NaN\n",
      "\n",
      "ANOVA Results for Metric: update_every_10th_row_duration\n",
      "                  sum_sq     df          F        PR(>F)\n",
      "C(framework)  128.925583    3.0   7.168798  1.879540e-04\n",
      "C(browser)    349.298167    2.0  29.133644  6.025817e-11\n",
      "Residual      683.402167  114.0        NaN           NaN\n",
      "\n"
     ]
    }
   ],
   "source": [
    "# Initialize a results dictionary\n",
    "anova_results = {}\n",
    "\n",
    "for metric, group_df in df_by_metric:\n",
    "    # Perform ANOVA for the metric\n",
    "    model = ols('value ~ C(framework) + C(browser)', data=group_df).fit()\n",
    "    anova_results[metric] = sm.stats.anova_lm(model, typ=2)\n",
    "\n",
    "    print(f\"ANOVA Results for Metric: {metric}\")\n",
    "    print(anova_results[metric])\n",
    "    print(\"\")"
   ]
  },
  {
   "cell_type": "code",
   "execution_count": 64,
   "id": "93d744f3-1578-4775-8805-1a87e306531b",
   "metadata": {},
   "outputs": [
    {
     "name": "stdout",
     "output_type": "stream",
     "text": [
      "     Multiple Comparison of Means - Tukey HSD, FWER=0.50      \n",
      "==============================================================\n",
      "   group1     group2   meandiff p-adj   lower    upper  reject\n",
      "--------------------------------------------------------------\n",
      "app-angular app-leptos   17.144 0.9294 -22.2895 56.5775  False\n",
      "app-angular  app-react  28.2213 0.7484 -11.2122 67.6549  False\n",
      "app-angular    app-vue  -11.188 0.9788 -50.6215 28.2455  False\n",
      " app-leptos  app-react  11.0773 0.9794 -28.3562 50.5109  False\n",
      " app-leptos    app-vue  -28.332 0.7462 -67.7655 11.1015  False\n",
      "  app-react    app-vue -39.4093 0.5005 -78.8429  0.0242  False\n",
      "--------------------------------------------------------------\n",
      "   Multiple Comparison of Means - Tukey HSD, FWER=0.50   \n",
      "=========================================================\n",
      " group1   group2 meandiff p-adj   lower    upper   reject\n",
      "---------------------------------------------------------\n",
      "chromium firefox  -33.226 0.3547 -60.3725  -6.0795   True\n",
      "chromium  webkit   52.984 0.0732  25.8375  80.1305   True\n",
      " firefox  webkit    86.21 0.0011  59.0635 113.3565   True\n",
      "---------------------------------------------------------\n"
     ]
    },
    {
     "data": {
      "image/png": "[encoded data removed]",
      "text/plain": [
       "<Figure size 1000x600 with 1 Axes>"
      ]
     },
     "metadata": {},
     "output_type": "display_data"
    },
    {
     "data": {
      "image/png": "[encoded data removed]",
      "text/plain": [
       "<Figure size 1000x600 with 1 Axes>"
      ]
     },
     "metadata": {},
     "output_type": "display_data"
    }
   ],
   "source": [
    "alpha = 0.5\n",
    "factors = ['framework', 'browser'] # TODO: add os\n",
    "\n",
    "# Lets see one metric only\n",
    "metric = metrics[0]\n",
    "anova_table = anova_results[metric]\n",
    "\n",
    "for factor in factors:\n",
    "    tukey = pairwise_tukeyhsd(endog=df['value'],     # Data\n",
    "                              groups=df[factor],     # Groups\n",
    "                              alpha=alpha)           # Significance level\n",
    "\n",
    "    print(tukey.summary())\n",
    "\n",
    "    # Plot group confidence intervals\n",
    "    tukey.plot_simultaneous()\n",
    "    plt.vlines(x=49.57, ymin=-0.5, ymax=4.5, color=\"red\")"
   ]
  },
  {
   "cell_type": "code",
   "execution_count": null,
   "id": "b27d26c2-052e-4819-838a-d33e7954f88d",
   "metadata": {},
   "outputs": [],
   "source": []
  }
 ],
 "metadata": {
  "kernelspec": {
   "display_name": "bsc-benchmark-analyze",
   "language": "python",
   "name": "bsc-benchmark-analyze"
  },
  "language_info": {
   "codemirror_mode": {
    "name": "ipython",
    "version": 3
   },
   "file_extension": ".py",
   "mimetype": "text/x-python",
   "name": "python",
   "nbconvert_exporter": "python",
   "pygments_lexer": "ipython3",
   "version": "3.13.0"
  }
 },
 "nbformat": 4,
 "nbformat_minor": 5
}
